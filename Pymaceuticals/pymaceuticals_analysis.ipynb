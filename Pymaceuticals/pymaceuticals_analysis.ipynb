{
 "cells": [
  {
   "cell_type": "markdown",
   "metadata": {},
   "source": [
    "Pymaceuticals Observations\n",
    "\n",
    "The first observation from the combined mouse metadata and the study metadata is that there are greeter than 150 data points for each of the drugs. Thus, each drug has sufficient data to provide a reasonable test of its efficacy and there are reasonable amounts of data within each drug to allow for comparison versus other drugs.\n",
    "\n",
    "The second observation is that there are equal numbers of male and female mice so that drug observations should be equivalently valid for both genders.\n",
    "\n",
    "The final observation is that Capomulin and Ramicane lead to significantly lower tumor volumes compared to other drugs. The mean drug volumes for these drugs was ~40 mm3 versus typical tumor volumes of >50 mm3 for the other drugs. Thus, these are the drugs that deserve the most attention going forward."
   ]
  },
  {
   "cell_type": "markdown",
   "metadata": {},
   "source": [
    "## Dependencies and starter code"
   ]
  },
  {
   "cell_type": "code",
   "execution_count": 1,
   "metadata": {},
   "outputs": [
    {
     "data": {
      "text/html": [
       "<div>\n",
       "<style scoped>\n",
       "    .dataframe tbody tr th:only-of-type {\n",
       "        vertical-align: middle;\n",
       "    }\n",
       "\n",
       "    .dataframe tbody tr th {\n",
       "        vertical-align: top;\n",
       "    }\n",
       "\n",
       "    .dataframe thead th {\n",
       "        text-align: right;\n",
       "    }\n",
       "</style>\n",
       "<table border=\"1\" class=\"dataframe\">\n",
       "  <thead>\n",
       "    <tr style=\"text-align: right;\">\n",
       "      <th></th>\n",
       "      <th>Mouse ID</th>\n",
       "      <th>Drug Regimen</th>\n",
       "      <th>Sex</th>\n",
       "      <th>Age_months</th>\n",
       "      <th>Weight (g)</th>\n",
       "      <th>Timepoint</th>\n",
       "      <th>Tumor Volume (mm3)</th>\n",
       "      <th>Metastatic Sites</th>\n",
       "    </tr>\n",
       "  </thead>\n",
       "  <tbody>\n",
       "    <tr>\n",
       "      <td>0</td>\n",
       "      <td>k403</td>\n",
       "      <td>Ramicane</td>\n",
       "      <td>Male</td>\n",
       "      <td>21</td>\n",
       "      <td>16</td>\n",
       "      <td>0</td>\n",
       "      <td>45.000000</td>\n",
       "      <td>0</td>\n",
       "    </tr>\n",
       "    <tr>\n",
       "      <td>1</td>\n",
       "      <td>k403</td>\n",
       "      <td>Ramicane</td>\n",
       "      <td>Male</td>\n",
       "      <td>21</td>\n",
       "      <td>16</td>\n",
       "      <td>5</td>\n",
       "      <td>38.825898</td>\n",
       "      <td>0</td>\n",
       "    </tr>\n",
       "    <tr>\n",
       "      <td>2</td>\n",
       "      <td>k403</td>\n",
       "      <td>Ramicane</td>\n",
       "      <td>Male</td>\n",
       "      <td>21</td>\n",
       "      <td>16</td>\n",
       "      <td>10</td>\n",
       "      <td>35.014271</td>\n",
       "      <td>1</td>\n",
       "    </tr>\n",
       "    <tr>\n",
       "      <td>3</td>\n",
       "      <td>k403</td>\n",
       "      <td>Ramicane</td>\n",
       "      <td>Male</td>\n",
       "      <td>21</td>\n",
       "      <td>16</td>\n",
       "      <td>15</td>\n",
       "      <td>34.223992</td>\n",
       "      <td>1</td>\n",
       "    </tr>\n",
       "    <tr>\n",
       "      <td>4</td>\n",
       "      <td>k403</td>\n",
       "      <td>Ramicane</td>\n",
       "      <td>Male</td>\n",
       "      <td>21</td>\n",
       "      <td>16</td>\n",
       "      <td>20</td>\n",
       "      <td>32.997729</td>\n",
       "      <td>1</td>\n",
       "    </tr>\n",
       "  </tbody>\n",
       "</table>\n",
       "</div>"
      ],
      "text/plain": [
       "  Mouse ID Drug Regimen   Sex  Age_months  Weight (g)  Timepoint  \\\n",
       "0     k403     Ramicane  Male          21          16          0   \n",
       "1     k403     Ramicane  Male          21          16          5   \n",
       "2     k403     Ramicane  Male          21          16         10   \n",
       "3     k403     Ramicane  Male          21          16         15   \n",
       "4     k403     Ramicane  Male          21          16         20   \n",
       "\n",
       "   Tumor Volume (mm3)  Metastatic Sites  \n",
       "0           45.000000                 0  \n",
       "1           38.825898                 0  \n",
       "2           35.014271                 1  \n",
       "3           34.223992                 1  \n",
       "4           32.997729                 1  "
      ]
     },
     "execution_count": 1,
     "metadata": {},
     "output_type": "execute_result"
    }
   ],
   "source": [
    "# Dependencies and Setup\n",
    "import matplotlib.pyplot as plt\n",
    "import pandas as pd\n",
    "import scipy.stats as st\n",
    "import numpy as np\n",
    "\n",
    "# Study data files\n",
    "mouse_metadata = \"data/Mouse_metadata.csv\"\n",
    "study_results = \"data/Study_results.csv\"\n",
    "\n",
    "# Read the mouse data and the study results\n",
    "mouse_metadata = pd.read_csv(mouse_metadata)\n",
    "study_results = pd.read_csv(study_results)\n",
    "\n",
    "# Combine the data into a single dataset\n",
    "full_df = pd.merge(mouse_metadata, study_results, on=\"Mouse ID\")\n",
    "full_df.head()"
   ]
  },
  {
   "cell_type": "markdown",
   "metadata": {},
   "source": [
    "## Summary statistics"
   ]
  },
  {
   "cell_type": "code",
   "execution_count": 3,
   "metadata": {},
   "outputs": [
    {
     "data": {
      "text/html": [
       "<div>\n",
       "<style scoped>\n",
       "    .dataframe tbody tr th:only-of-type {\n",
       "        vertical-align: middle;\n",
       "    }\n",
       "\n",
       "    .dataframe tbody tr th {\n",
       "        vertical-align: top;\n",
       "    }\n",
       "\n",
       "    .dataframe thead tr th {\n",
       "        text-align: left;\n",
       "    }\n",
       "\n",
       "    .dataframe thead tr:last-of-type th {\n",
       "        text-align: right;\n",
       "    }\n",
       "</style>\n",
       "<table border=\"1\" class=\"dataframe\">\n",
       "  <thead>\n",
       "    <tr>\n",
       "      <th></th>\n",
       "      <th colspan=\"5\" halign=\"left\">Tumor Volume (mm3)</th>\n",
       "    </tr>\n",
       "    <tr>\n",
       "      <th></th>\n",
       "      <th>mean</th>\n",
       "      <th>median</th>\n",
       "      <th>var</th>\n",
       "      <th>std</th>\n",
       "      <th>sem</th>\n",
       "    </tr>\n",
       "    <tr>\n",
       "      <th>Drug Regimen</th>\n",
       "      <th></th>\n",
       "      <th></th>\n",
       "      <th></th>\n",
       "      <th></th>\n",
       "      <th></th>\n",
       "    </tr>\n",
       "  </thead>\n",
       "  <tbody>\n",
       "    <tr>\n",
       "      <td>Capomulin</td>\n",
       "      <td>40.675741</td>\n",
       "      <td>41.557809</td>\n",
       "      <td>24.947764</td>\n",
       "      <td>4.994774</td>\n",
       "      <td>0.329346</td>\n",
       "    </tr>\n",
       "    <tr>\n",
       "      <td>Ceftamin</td>\n",
       "      <td>52.591172</td>\n",
       "      <td>51.776157</td>\n",
       "      <td>39.290177</td>\n",
       "      <td>6.268188</td>\n",
       "      <td>0.469821</td>\n",
       "    </tr>\n",
       "    <tr>\n",
       "      <td>Infubinol</td>\n",
       "      <td>52.884795</td>\n",
       "      <td>51.820584</td>\n",
       "      <td>43.128684</td>\n",
       "      <td>6.567243</td>\n",
       "      <td>0.492236</td>\n",
       "    </tr>\n",
       "    <tr>\n",
       "      <td>Ketapril</td>\n",
       "      <td>55.235638</td>\n",
       "      <td>53.698743</td>\n",
       "      <td>68.553577</td>\n",
       "      <td>8.279709</td>\n",
       "      <td>0.603860</td>\n",
       "    </tr>\n",
       "    <tr>\n",
       "      <td>Naftisol</td>\n",
       "      <td>54.331565</td>\n",
       "      <td>52.509285</td>\n",
       "      <td>66.173479</td>\n",
       "      <td>8.134708</td>\n",
       "      <td>0.596466</td>\n",
       "    </tr>\n",
       "    <tr>\n",
       "      <td>Placebo</td>\n",
       "      <td>54.033581</td>\n",
       "      <td>52.288934</td>\n",
       "      <td>61.168083</td>\n",
       "      <td>7.821003</td>\n",
       "      <td>0.581331</td>\n",
       "    </tr>\n",
       "    <tr>\n",
       "      <td>Propriva</td>\n",
       "      <td>52.322552</td>\n",
       "      <td>50.854632</td>\n",
       "      <td>42.351070</td>\n",
       "      <td>6.507770</td>\n",
       "      <td>0.512884</td>\n",
       "    </tr>\n",
       "    <tr>\n",
       "      <td>Ramicane</td>\n",
       "      <td>40.216745</td>\n",
       "      <td>40.673236</td>\n",
       "      <td>23.486704</td>\n",
       "      <td>4.846308</td>\n",
       "      <td>0.320955</td>\n",
       "    </tr>\n",
       "    <tr>\n",
       "      <td>Stelasyn</td>\n",
       "      <td>54.233149</td>\n",
       "      <td>52.431737</td>\n",
       "      <td>59.450562</td>\n",
       "      <td>7.710419</td>\n",
       "      <td>0.573111</td>\n",
       "    </tr>\n",
       "    <tr>\n",
       "      <td>Zoniferol</td>\n",
       "      <td>53.236507</td>\n",
       "      <td>51.818479</td>\n",
       "      <td>48.533355</td>\n",
       "      <td>6.966589</td>\n",
       "      <td>0.516398</td>\n",
       "    </tr>\n",
       "  </tbody>\n",
       "</table>\n",
       "</div>"
      ],
      "text/plain": [
       "             Tumor Volume (mm3)                                          \n",
       "                           mean     median        var       std       sem\n",
       "Drug Regimen                                                             \n",
       "Capomulin             40.675741  41.557809  24.947764  4.994774  0.329346\n",
       "Ceftamin              52.591172  51.776157  39.290177  6.268188  0.469821\n",
       "Infubinol             52.884795  51.820584  43.128684  6.567243  0.492236\n",
       "Ketapril              55.235638  53.698743  68.553577  8.279709  0.603860\n",
       "Naftisol              54.331565  52.509285  66.173479  8.134708  0.596466\n",
       "Placebo               54.033581  52.288934  61.168083  7.821003  0.581331\n",
       "Propriva              52.322552  50.854632  42.351070  6.507770  0.512884\n",
       "Ramicane              40.216745  40.673236  23.486704  4.846308  0.320955\n",
       "Stelasyn              54.233149  52.431737  59.450562  7.710419  0.573111\n",
       "Zoniferol             53.236507  51.818479  48.533355  6.966589  0.516398"
      ]
     },
     "metadata": {},
     "output_type": "display_data"
    }
   ],
   "source": [
    "# Generate a summary statistics table of mean, median, variance, standard deviation, \n",
    "#and SEM of the tumor volume for each regimen using agg()\n",
    "\n",
    "tvol_summary_agg = full_df.groupby(\"Drug Regimen\").agg({\"Tumor Volume (mm3)\" : \n",
    "                                                        [\"mean\", \"median\", \"var\", \"std\", \"sem\"]})\n",
    "\n",
    "#Show the summary stats.\n",
    "display(tvol_summary_agg)"
   ]
  },
  {
   "cell_type": "markdown",
   "metadata": {},
   "source": [
    "## Bar plots"
   ]
  },
  {
   "cell_type": "code",
   "execution_count": 4,
   "metadata": {},
   "outputs": [
    {
     "data": {
      "image/png": "[encoded data removed]",
      "text/plain": [
       "<Figure size 432x288 with 1 Axes>"
      ]
     },
     "metadata": {
      "needs_background": "light"
     },
     "output_type": "display_data"
    }
   ],
   "source": [
    "# Generate a bar plot showing number of data points for each treatment regimen using pandas\n",
    "\n",
    "data_points_drug = full_df.groupby(\"Drug Regimen\").agg({\"Mouse ID\" : [\"count\"]})\n",
    "bp = data_points_drug.plot.bar(y=\"Mouse ID\", rot=90, legend = False)"
   ]
  },
  {
   "cell_type": "code",
   "execution_count": 5,
   "metadata": {},
   "outputs": [
    {
     "data": {
      "text/plain": [
       "<BarContainer object of 10 artists>"
      ]
     },
     "execution_count": 5,
     "metadata": {},
     "output_type": "execute_result"
    },
    {
     "data": {
      "image/png": "[encoded data removed]",
      "text/plain": [
       "<Figure size 432x288 with 1 Axes>"
      ]
     },
     "metadata": {
      "needs_background": "light"
     },
     "output_type": "display_data"
    }
   ],
   "source": [
    "# Generate a bar plot showing number of data points for each treatment regimen using pyplot\n",
    "\n",
    "# Get the number of data points for each treatment by counting the Mouse ID for each drug.\n",
    "data_points_drug_2 = full_df.groupby(\"Drug Regimen\").count()[\"Mouse ID\"]\n",
    "\n",
    "# Create a list with the names of the drugs.\n",
    "drugs = full_df[\"Drug Regimen\"].unique()\n",
    "\n",
    "# Sort the drug names.\n",
    "drugs.sort()\n",
    "\n",
    "# Creat a pyplot bar plot with drug names vertically oriented.\n",
    "plt.xticks(rotation='vertical')\n",
    "plt.bar(drugs, data_points_drug_2)"
   ]
  },
  {
   "cell_type": "markdown",
   "metadata": {},
   "source": [
    "## Pie plots"
   ]
  },
  {
   "cell_type": "code",
   "execution_count": 6,
   "metadata": {},
   "outputs": [
    {
     "data": {
      "text/plain": [
       "<matplotlib.axes._subplots.AxesSubplot at 0x7fb87a36e850>"
      ]
     },
     "execution_count": 6,
     "metadata": {},
     "output_type": "execute_result"
    },
    {
     "data": {
      "image/png": "[encoded data removed]",
      "text/plain": [
       "<Figure size 432x288 with 1 Axes>"
      ]
     },
     "metadata": {},
     "output_type": "display_data"
    }
   ],
   "source": [
    "# Generate a pie plot showing the distribution of female versus male mice using pandas\n",
    "\n",
    "# Get the number of data points for each treatment by counting the Mouse ID for each drug.\n",
    "gender_df = full_df.groupby(\"Sex\").nunique()[\"Mouse ID\"]\n",
    "\n",
    "\n",
    "# Create a pie chart.\n",
    "colors = [\"orange\", \"blue\"]\n",
    "gender_df.plot.pie(y=\"Mouse ID\", colors = colors, counterclock=True, autopct=\"%0.1f%%\", startangle = 180)\n"
   ]
  },
  {
   "cell_type": "code",
   "execution_count": 7,
   "metadata": {},
   "outputs": [
    {
     "data": {
      "text/plain": [
       "<matplotlib.legend.Legend at 0x7fb85837d150>"
      ]
     },
     "execution_count": 7,
     "metadata": {},
     "output_type": "execute_result"
    },
    {
     "data": {
      "image/png": "[encoded data removed]",
      "text/plain": [
       "<Figure size 432x288 with 1 Axes>"
      ]
     },
     "metadata": {},
     "output_type": "display_data"
    }
   ],
   "source": [
    "# Generate a pie plot showing the distribution of female versus male mice using pyplot\n",
    "\n",
    "colors = [\"orange\", \"blue\"]\n",
    "genders = [\"Female\", \"Male\"]\n",
    "plt.pie(gender_df, colors = colors, counterclock=True, autopct=\"%0.1f%%\", startangle = 180)\n",
    "plt.legend(labels = genders, loc=\"best\")"
   ]
  },
  {
   "cell_type": "markdown",
   "metadata": {},
   "source": [
    "## Quartiles, outliers and boxplots"
   ]
  },
  {
   "cell_type": "code",
   "execution_count": 8,
   "metadata": {},
   "outputs": [
    {
     "name": "stdout",
     "output_type": "stream",
     "text": [
      "For Capomulin the Quartiles are 32.38 and 40.16, the IQR is 7.78, the Outlier boundaries are 20.70 and 51.83\n",
      "There are NO outliers presents in the final Capomulin tumor volume data.\n",
      "\n",
      "For Ramicane the Quartiles are 31.56 and 40.66, the IQR is 9.10, the Outlier boundaries are 17.91 and 54.31\n",
      "There are NO outliers presents in the final Ramicane tumor volume data.\n",
      "\n",
      "For Infubinol the Quartiles are 54.05 and 65.53, the IQR is 11.48, the Outlier boundaries are 36.83 and 82.74\n",
      "There ARE outliers presents in the final Infubinol tumor volume data. The outliers are [36.321345799999996]\n",
      "\n",
      "For Ceftamin the Quartiles are 48.72 and 64.30, the IQR is 15.58, the Outlier boundaries are 25.36 and 87.67\n",
      "There are NO outliers presents in the final Ceftamin tumor volume data.\n"
     ]
    }
   ],
   "source": [
    "# Calculate the final tumor volume of each mouse across four of the most \n",
    "#promising treatment regimens. Calculate the IQR and quantitatively \n",
    "#determine if there are any potential outliers. \n",
    "\n",
    "# Groupby drug and Mouse ID, take the last item in each group.\n",
    "full_df[\"Timepoint\"].sort_values()\n",
    "last_tvol = full_df.groupby([\"Drug Regimen\", \"Mouse ID\"]).tail(1)\n",
    "\n",
    "#Create lists with the weights for each drug at the last time point.\n",
    "\n",
    "Capomulin_final = last_tvol[\"Tumor Volume (mm3)\"].loc[(last_tvol[\"Drug Regimen\"] == \"Capomulin\")]\n",
    "Ramicane_final = last_tvol[\"Tumor Volume (mm3)\"].loc[(last_tvol[\"Drug Regimen\"] == \"Ramicane\")]\n",
    "Infubinol_final = last_tvol[\"Tumor Volume (mm3)\"].loc[(last_tvol[\"Drug Regimen\"] == \"Infubinol\")]\n",
    "Ceftamin_final = last_tvol[\"Tumor Volume (mm3)\"].loc[(last_tvol[\"Drug Regimen\"] == \"Ceftamin\")]\n",
    "\n",
    "#Calculate the quartiles.\n",
    "Capomulin_final_quartiles = Capomulin_final.quantile([.25,.5,.75])\n",
    "Capomulin_final_lowerq = Capomulin_final_quartiles[0.25]\n",
    "Capomulin_final_upperq = Capomulin_final_quartiles[0.75]\n",
    "Capomulin_final_iqr = Capomulin_final_upperq-Capomulin_final_lowerq\n",
    "Capomulin_final_lower_bound = Capomulin_final_lowerq - (1.5*Capomulin_final_iqr)\n",
    "Capomulin_final_upper_bound = Capomulin_final_upperq + (1.5*Capomulin_final_iqr)\n",
    "Capomulin_final_bool = Capomulin_final.between(Capomulin_final_lower_bound, Capomulin_final_upper_bound, inclusive = True)\n",
    "\n",
    "Ramicane_final_quartiles = Ramicane_final.quantile([.25,.5,.75])\n",
    "Ramicane_final_lowerq = Ramicane_final_quartiles[0.25]\n",
    "Ramicane_final_upperq = Ramicane_final_quartiles[0.75]\n",
    "Ramicane_final_iqr = Ramicane_final_upperq-Ramicane_final_lowerq\n",
    "Ramicane_final_lower_bound = Ramicane_final_lowerq - (1.5*Ramicane_final_iqr)\n",
    "Ramicane_final_upper_bound = Ramicane_final_upperq + (1.5*Ramicane_final_iqr)\n",
    "Ramicane_final_bool = Ramicane_final.between(Ramicane_final_lower_bound, Ramicane_final_upper_bound, inclusive = True)\n",
    "\n",
    "Infubinol_final_quartiles = Infubinol_final.quantile([.25,.5,.75])\n",
    "Infubinol_final_lowerq = Infubinol_final_quartiles[0.25]\n",
    "Infubinol_final_upperq = Infubinol_final_quartiles[0.75]\n",
    "Infubinol_final_iqr = Infubinol_final_upperq-Infubinol_final_lowerq\n",
    "Infubinol_final_lower_bound = Infubinol_final_lowerq - (1.5*Infubinol_final_iqr)\n",
    "Infubinol_final_upper_bound = Infubinol_final_upperq + (1.5*Infubinol_final_iqr)\n",
    "Infubinol_final_bool = Infubinol_final.between(Infubinol_final_lower_bound, Infubinol_final_upper_bound, inclusive = True)\n",
    "\n",
    "Ceftamin_final_quartiles = Ceftamin_final.quantile([.25,.5,.75])\n",
    "Ceftamin_final_lowerq = Ceftamin_final_quartiles[0.25]\n",
    "Ceftamin_final_upperq = Ceftamin_final_quartiles[0.75]\n",
    "Ceftamin_final_iqr = Ceftamin_final_upperq-Ceftamin_final_lowerq\n",
    "Ceftamin_final_lower_bound = Ceftamin_final_lowerq - (1.5*Ceftamin_final_iqr)\n",
    "Ceftamin_final_upper_bound = Ceftamin_final_upperq + (1.5*Ceftamin_final_iqr)\n",
    "Ceftamin_final_bool = Ceftamin_final.between(Ceftamin_final_lower_bound, Ceftamin_final_upper_bound, inclusive = True)\n",
    "\n",
    "#Check the quartile data for outliers in each list\n",
    "\n",
    "###Capomulin\n",
    "Capomulin_outlier = [k for k in Capomulin_final if k < Capomulin_final_lower_bound or k > Capomulin_final_upper_bound]\n",
    "\n",
    "print(f\"For Capomulin the Quartiles are {Capomulin_final_lowerq:.2f} and {Capomulin_final_upperq:.2f}, the IQR is {Capomulin_final_iqr:.2f}, the Outlier boundaries are {Capomulin_final_lower_bound:.2f} and {Capomulin_final_upper_bound:.2f}\")\n",
    "\n",
    "if {k for k in Capomulin_final_bool if k == False}:\n",
    "    print(f\"There ARE outliers presents in the final Capomulin tumor volume data. The outliers are {Capomulin_outlier}\")\n",
    "else:\n",
    "    print(\"There are NO outliers presents in the final Capomulin tumor volume data.\")\n",
    "\n",
    "print(\"\")\n",
    "\n",
    "###Ramicane\n",
    "Ramicane_outlier = [k for k in Ramicane_final if k < Ramicane_final_lower_bound or k > Ramicane_final_upper_bound]\n",
    "\n",
    "print(f\"For Ramicane the Quartiles are {Ramicane_final_lowerq:.2f} and {Ramicane_final_upperq:.2f}, the IQR is {Ramicane_final_iqr:.2f}, the Outlier boundaries are {Ramicane_final_lower_bound:.2f} and {Ramicane_final_upper_bound:.2f}\")\n",
    "\n",
    "if {k for k in Ramicane_final_bool if k == False}:\n",
    "    print(f\"There ARE outliers presents in the final Ramicane tumor volume data. The outliers are {Ramicane_outlier}\")\n",
    "else:\n",
    "    print(\"There are NO outliers presents in the final Ramicane tumor volume data.\")\n",
    "print(\"\")\n",
    "\n",
    "### Infubinol\n",
    "Infubinol_outlier = [k for k in Infubinol_final if k < Infubinol_final_lower_bound or k > Infubinol_final_upper_bound]\n",
    "\n",
    "print(f\"For Infubinol the Quartiles are {Infubinol_final_lowerq:.2f} and {Infubinol_final_upperq:.2f}, the IQR is {Infubinol_final_iqr:.2f}, the Outlier boundaries are {Infubinol_final_lower_bound:.2f} and {Infubinol_final_upper_bound:.2f}\")\n",
    "\n",
    "if {k for k in Infubinol_final_bool if k == False}:\n",
    "    print(f\"There ARE outliers presents in the final Infubinol tumor volume data. The outliers are {Infubinol_outlier}\")\n",
    "else:\n",
    "    print(\"There are NO outliers presents in the final Infubinol tumor volume data.\")\n",
    "\n",
    "print(\"\")\n",
    "\n",
    "###Ceftamin\n",
    "Ceftamin_outlier = [k for k in Ceftamin_final if k < Ceftamin_final_lower_bound or k > Ceftamin_final_upper_bound]\n",
    "\n",
    "print(f\"For Ceftamin the Quartiles are {Ceftamin_final_lowerq:.2f} and {Ceftamin_final_upperq:.2f}, the IQR is {Ceftamin_final_iqr:.2f}, the Outlier boundaries are {Ceftamin_final_lower_bound:.2f} and {Ceftamin_final_upper_bound:.2f}\")\n",
    "\n",
    "if {k for k in Ceftamin_final_bool if k == False}:\n",
    "    print(f\"There ARE outliers presents in the final Ceftamin tumor volume data. The outliers are {Ceftamin_outlier}\")\n",
    "else:\n",
    "    print(\"There are NO outliers presents in the final Ceftamin tumor volume data.\")"
   ]
  },
  {
   "cell_type": "code",
   "execution_count": 9,
   "metadata": {},
   "outputs": [
    {
     "data": {
      "image/png": "[encoded data removed]",
      "text/plain": [
       "<Figure size 432x288 with 1 Axes>"
      ]
     },
     "metadata": {
      "needs_background": "light"
     },
     "output_type": "display_data"
    }
   ],
   "source": [
    "# Generate a box plot of the final tumor volume of each mouse across four \n",
    "#regimens of interest\n",
    "\n",
    "fig1, ax1 = plt.subplots()\n",
    "data = [Capomulin_final, Ramicane_final, Infubinol_final, Ceftamin_final]\n",
    "\n",
    "# Add some text for labels, title and custom x-axis tick labels, etc.\n",
    "drug_labels = [\"Capomulin\", \"Ramicane\", \"Infubinol\", \"Ceftamin\"]\n",
    "ax1.set_ylabel(\"Final Tumor Volume (mm3)\")\n",
    "ax1.set_xticklabels(drug_labels)\n",
    "\n",
    "ax1.boxplot(data, 0, \"r+\")\n",
    "plt.show()"
   ]
  },
  {
   "cell_type": "markdown",
   "metadata": {},
   "source": [
    "## Line and scatter plots"
   ]
  },
  {
   "cell_type": "code",
   "execution_count": 10,
   "metadata": {},
   "outputs": [
    {
     "data": {
      "text/plain": [
       "(-3, 47)"
      ]
     },
     "execution_count": 10,
     "metadata": {},
     "output_type": "execute_result"
    },
    {
     "data": {
      "image/png": "[encoded data removed]",
      "text/plain": [
       "<Figure size 432x288 with 1 Axes>"
      ]
     },
     "metadata": {
      "needs_background": "light"
     },
     "output_type": "display_data"
    }
   ],
   "source": [
    "# Generate a line plot of time point versus tumor volume for a mouse treated with Capomulin\n",
    "\n",
    "# First pull the data for mouse I509.\n",
    "l509 = full_df.loc[full_df[\"Mouse ID\"] == \"l509\"]\n",
    "\n",
    "# Plot the data.\n",
    "ax = l509.plot(x = \"Timepoint\", y=\"Tumor Volume (mm3)\", kind = \"line\", title = \"Capomulin treatment of mouse l509\")\n",
    "ax.set_ylabel(\"Tumor Volume (mm3)\")\n",
    "ax.set_xlabel(\"Timepoint (days)\")\n",
    "ax.set_xlim((-3,47))"
   ]
  },
  {
   "cell_type": "code",
   "execution_count": 11,
   "metadata": {},
   "outputs": [
    {
     "name": "stderr",
     "output_type": "stream",
     "text": [
      "/Users/jason/opt/anaconda3/lib/python3.7/site-packages/pandas/core/reshape/merge.py:617: UserWarning: merging between different levels can give an unintended result (2 levels on the left, 1 on the right)\n",
      "  warnings.warn(msg, UserWarning)\n"
     ]
    },
    {
     "data": {
      "image/png": "[encoded data removed]",
      "text/plain": [
       "<Figure size 432x288 with 1 Axes>"
      ]
     },
     "metadata": {
      "needs_background": "light"
     },
     "output_type": "display_data"
    }
   ],
   "source": [
    "# Generate a scatter plot of mouse weight versus average tumor volume for the Capomulin regimen\n",
    "\n",
    "# Select only Capomulin rows\n",
    "Capomulin = full_df.loc[(full_df[\"Drug Regimen\"] == \"Capomulin\")]\n",
    "\n",
    "# Get mean tumor volume per mouse for the Capomulin regime.\n",
    "Capomulin_mean_tvol = Capomulin.groupby(\"Mouse ID\").agg({\"Tumor Volume (mm3)\" : [\"mean\"]})\n",
    "\n",
    "# Get the Capomulin mouse weights from the mouse metadata DF (to avoid issues with multiple measurements for each mouse).\n",
    "Capomulin_mouse_weight = mouse_metadata.loc[(mouse_metadata[\"Drug Regimen\"] == \"Capomulin\")]\n",
    "\n",
    "# Put the mouse weight and the mean tumor volumes into the same DF so the Mouse ID link.\n",
    "Capolulin_weight_volume = pd.merge(Capomulin_mean_tvol, Capomulin_mouse_weight, on=\"Mouse ID\")\n",
    "\n",
    "# Create the scatter plot.\n",
    "x = Capolulin_weight_volume[\"Weight (g)\"]\n",
    "y = Capolulin_weight_volume[(\"Tumor Volume (mm3)\", \"mean\")]\n",
    "plt.scatter(x, y)\n",
    "plt.xlabel(\"Weight (g)\")\n",
    "plt.ylabel(\"Average Tumor Volume (mm3)\")\n",
    "plt.show()"
   ]
  },
  {
   "cell_type": "code",
   "execution_count": 12,
   "metadata": {},
   "outputs": [
    {
     "name": "stdout",
     "output_type": "stream",
     "text": [
      "The correlation between mouse weight and the average tumor volume is 0.84\n"
     ]
    },
    {
     "data": {
      "image/png": "[encoded data removed]",
      "text/plain": [
       "<Figure size 432x288 with 1 Axes>"
      ]
     },
     "metadata": {
      "needs_background": "light"
     },
     "output_type": "display_data"
    }
   ],
   "source": [
    "# Get linregress\n",
    "from scipy.stats import linregress\n",
    "\n",
    "# Calculate the correlation coefficient and linear regression model\n",
    "#for mouse weight and average tumor volume for the Capomulin regimen\n",
    "\n",
    "# Add the linear regression equation and line to plot\n",
    "(slope, intercept, rvalue, pvalue, stderr) = linregress(x, y)\n",
    "regress_values = x * slope + intercept\n",
    "line_eq = \"y = \" + str (round(slope,2)) + \"x + \" + str(round(intercept,2))\n",
    "plt.scatter(x, y)\n",
    "plt.plot(x, regress_values,\"r-\")\n",
    "plt.annotate(line_eq,(6,10),fontsize=15,color=\"red\")\n",
    "\n",
    "print(f\"The correlation between mouse weight and the average tumor volume is {rvalue:.2f}\")\n",
    "\n"
   ]
  },
  {
   "cell_type": "code",
   "execution_count": null,
   "metadata": {},
   "outputs": [],
   "source": []
  }
 ],
 "metadata": {
  "anaconda-cloud": {},
  "kernelspec": {
   "display_name": "Python 3",
   "language": "python",
   "name": "python3"
  },
  "language_info": {
   "codemirror_mode": {
    "name": "ipython",
    "version": 3
   },
   "file_extension": ".py",
   "mimetype": "text/x-python",
   "name": "python",
   "nbconvert_exporter": "python",
   "pygments_lexer": "ipython3",
   "version": "3.7.4"
  }
 },
 "nbformat": 4,
 "nbformat_minor": 4
}
